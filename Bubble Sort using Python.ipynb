{
 "cells": [
  {
   "cell_type": "code",
   "execution_count": 1,
   "id": "121cb329",
   "metadata": {},
   "outputs": [
    {
     "name": "stdout",
     "output_type": "stream",
     "text": [
      "Sorted array is: [20, 35, 50, 50, 90]\n"
     ]
    }
   ],
   "source": [
    "def Bubblesort(arr1):\n",
    "#this code defines a function named bubble sort and arr1 is the input list\n",
    "    n = len(arr1)\n",
    "    #len funtion is used for counting the length of the array\n",
    "    for i in range(n):\n",
    "    #this is the outer lop that iterates over the elements of the list. \n",
    "    #it represents the number of passes through the list\n",
    "        \n",
    "        for j in range (0,n-i-1):\n",
    "        #this means j will start at 0 and go upto the last element.\n",
    "        # eg- if n=5 then the loop will go from index 0 to index 4 which is 5.\n",
    "            if arr1[j]>arr1[j+1]:\n",
    "                arr1[j],arr1[j+1]=arr1[j+1],arr1[j]\n",
    "            #Within the inner loop, elements are compared, and if they are in the wrong order, they are swapped.\n",
    "       \n",
    "arr1 = [50,50,20,90,35]\n",
    "Bubblesort(arr1)\n",
    "#An example list arr1 is provided, and the Bubblesort function is called on this list.\n",
    "\n",
    "print(\"Sorted array is:\", arr1)"
   ]
  },
  {
   "cell_type": "code",
   "execution_count": null,
   "id": "952b4960",
   "metadata": {},
   "outputs": [],
   "source": []
  }
 ],
 "metadata": {
  "kernelspec": {
   "display_name": "Python 3 (ipykernel)",
   "language": "python",
   "name": "python3"
  },
  "language_info": {
   "codemirror_mode": {
    "name": "ipython",
    "version": 3
   },
   "file_extension": ".py",
   "mimetype": "text/x-python",
   "name": "python",
   "nbconvert_exporter": "python",
   "pygments_lexer": "ipython3",
   "version": "3.11.5"
  }
 },
 "nbformat": 4,
 "nbformat_minor": 5
}
